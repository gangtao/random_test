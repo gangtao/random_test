{
 "cells": [
  {
   "cell_type": "markdown",
   "metadata": {},
   "source": [
    "## Data Preparation and Cleaning\n",
    "The data in \"SPLK.csv\" came from https://finance.yahoo.com/quote/splk/history/, it contains five years data start from July 2012."
   ]
  },
  {
   "cell_type": "code",
   "execution_count": 1,
   "metadata": {
    "collapsed": false,
    "scrolled": false
   },
   "outputs": [
    {
     "name": "stdout",
     "output_type": "stream",
     "text": [
      "         Date       Open       High        Low      Close  Adj Close  Volume\n",
      "0  2012-07-31  28.650000  29.549999  28.639999  29.400000  29.400000  518400\n",
      "1  2012-08-01  29.690001  29.799999  28.680000  28.950001  28.950001  338300\n",
      "2  2012-08-02  28.400000  28.540001  27.000000  28.280001  28.280001  840100\n",
      "3  2012-08-03  28.900000  28.990000  27.530001  27.940001  27.940001  422100\n",
      "4  2012-08-06  27.980000  29.740000  27.879999  29.160000  29.160000  624100\n"
     ]
    }
   ],
   "source": [
    "import pandas\n",
    "splunk = pandas.read_csv(\"SPLK.csv\")\n",
    "\n",
    "print splunk.head()"
   ]
  },
  {
   "cell_type": "code",
   "execution_count": 2,
   "metadata": {
    "collapsed": false,
    "scrolled": true
   },
   "outputs": [
    {
     "data": {
      "text/plain": [
       "<matplotlib.axes._subplots.AxesSubplot at 0x10963fed0>"
      ]
     },
     "execution_count": 2,
     "metadata": {},
     "output_type": "execute_result"
    },
    {
     "data": {
      "image/png": "[encoded data removed]",
      "text/plain": [
       "<matplotlib.figure.Figure at 0x10963fcd0>"
      ]
     },
     "metadata": {},
     "output_type": "display_data"
    }
   ],
   "source": [
    "%matplotlib inline\n",
    "splunk.plot.line(x=\"Date\",y=\"Close\")"
   ]
  },
  {
   "cell_type": "code",
   "execution_count": 3,
   "metadata": {
    "collapsed": false
   },
   "outputs": [
    {
     "name": "stdout",
     "output_type": "stream",
     "text": [
      "              Open         High          Low        Close    Adj Close  \\\n",
      "count  1257.000000  1257.000000  1257.000000  1257.000000  1257.000000   \n",
      "mean     55.072053    56.027661    54.031679    55.050048    55.050048   \n",
      "std      12.895890    13.067184    12.602759    12.797729    12.797729   \n",
      "min      26.309999    26.700001    26.100000    26.299999    26.299999   \n",
      "25%      47.099998    48.020000    46.220001    47.139999    47.139999   \n",
      "50%      57.430000    58.439999    56.349998    57.500000    57.500000   \n",
      "75%      62.360001    63.340000    61.459999    62.480000    62.480000   \n",
      "max     102.940002   106.150002    93.739998    95.500000    95.500000   \n",
      "\n",
      "                Volume  \n",
      "count      1257.000000  \n",
      "mean    1871072.712808  \n",
      "std     1583970.347551  \n",
      "min      154800.000000  \n",
      "25%     1066700.000000  \n",
      "50%     1484800.000000  \n",
      "75%     2116700.000000  \n",
      "max    20229600.000000  \n"
     ]
    }
   ],
   "source": [
    "print splunk.describe()"
   ]
  },
  {
   "cell_type": "markdown",
   "metadata": {},
   "source": [
    "Shift is often used for time serials data anaylsis"
   ]
  },
  {
   "cell_type": "code",
   "execution_count": 4,
   "metadata": {
    "collapsed": false
   },
   "outputs": [
    {
     "name": "stdout",
     "output_type": "stream",
     "text": [
      "         Date       Open       High        Low      Close  Adj Close  Volume\n",
      "0         NaN        NaN        NaN        NaN        NaN        NaN     NaN\n",
      "1  2012-07-31  28.650000  29.549999  28.639999  29.400000  29.400000  518400\n",
      "2  2012-08-01  29.690001  29.799999  28.680000  28.950001  28.950001  338300\n",
      "3  2012-08-02  28.400000  28.540001  27.000000  28.280001  28.280001  840100\n",
      "4  2012-08-03  28.900000  28.990000  27.530001  27.940001  27.940001  422100\n"
     ]
    }
   ],
   "source": [
    "splunk_tomorrow = splunk.shift()\n",
    "print splunk_tomorrow.head()"
   ]
  },
  {
   "cell_type": "markdown",
   "metadata": {},
   "source": [
    "data cleaning, using dropna() can remove all empty data"
   ]
  },
  {
   "cell_type": "code",
   "execution_count": 5,
   "metadata": {
    "collapsed": false
   },
   "outputs": [
    {
     "name": "stdout",
     "output_type": "stream",
     "text": [
      "         Date     Value\n",
      "1  2012-07-31  0.449999\n",
      "2  2012-08-01  0.670000\n",
      "3  2012-08-02  0.340000\n",
      "4  2012-08-03 -1.219999\n",
      "5  2012-08-06 -1.350000\n"
     ]
    }
   ],
   "source": [
    "splunk_diff = pandas.DataFrame({\"Date\":splunk_tomorrow[\"Date\"],\"Value\":splunk_tomorrow[\"Close\"] - splunk[\"Close\"]})\n",
    "#splunk_diff = splunk_diff[1:]\n",
    "splunk_diff = splunk_diff.dropna()\n",
    "print splunk_diff.head()"
   ]
  },
  {
   "cell_type": "markdown",
   "metadata": {},
   "source": [
    "## BINARY ENCODING APPROACH\n",
    "\n",
    "Discretization involves converting continuous variables into discrete variables. The most popular discretization approach is binning. Binning involves classifying the output from continuous variables into a mutually exclusive set of \"bins\" each of which represent a possible interval within which the random variable may fall.\n",
    "\n",
    "Since we don't know the range of market returns (our continuous variable), we simply bin them into positive returns and negative returns which are represented as a 1 and 0 bit respectively. To avoid bias we add a special case for returns equal to exactly 0.0%, these returns are represented at as both 0 and 1 i.e. 01 bit strings:\n",
    "\n",
    "bi=f(ri)=⎧⎩⎨⎪⎪1,0,01,if ri>0.0if ri<0.0if ri=0.0bi=f(ri)={1,if ri>0.00,if ri<0.001,if ri=0.0\n",
    "\n",
    "where bibi represents the bit in the bit string at index ii and riri represents the return generated by the security being discretized at time ii. If the security goes up as often as it goes down, then the number of zeros and ones in the resulting bit string should be uniformly distributed. This is discussed in more detail in the next section.\n",
    "\n",
    "Two additional conversion methods were implemented and tested which involved converting basis points and floating point returns into binary respectively. The problem with these is that they introduce biases which result in even strong cryptographic random number generators failing numerous tests in the suite."
   ]
  },
  {
   "cell_type": "code",
   "execution_count": 6,
   "metadata": {
    "collapsed": false,
    "scrolled": false
   },
   "outputs": [
    {
     "name": "stdout",
     "output_type": "stream",
     "text": [
      "111001011110001101011100000110001101010101110111110101110101111011011011000100010100110011110000010111100001100010100010001100100100010111100101011000110011101001001110010000101110010101100001101010000111001011100011010011010001000010010110110000110000011010111101000111000000000111000011001101101110011001001011001100111000001011010111110111101001100101110110110100000011101011000000101010000101100111101100101110110011110011000010111101011111101110000000101011000100001001000000011111100101010001100110111101001001101011001000100110111101010101000101110000101001010011100100101010001011100011111110001010111111001101101000111010000011000100011001111011100110011111001110000011100100000110100100010001100011001110101101100000011011010111001010001001101001101101000011111100111101010110111010111000011010111000110111010000101110000001101010110101011001101000000111111010111001111001001101110001001000001000101011010101010100110101101011000011011011110011100000000000001001110000100101100101000001001001001100110100010001100101010111000110100111011100100101101110000000110010111010100000110101101001000101001111001110010100101011100110000010001110100011110111111001000110000001111011001110000000101001001001000110011011100001111010101001110011010000110001100011\n"
     ]
    }
   ],
   "source": [
    "def check(x):\n",
    "    if x.Value > 0:\n",
    "        return \"1\"\n",
    "    elif x.Value < 0:\n",
    "        return \"0\"\n",
    "    else:\n",
    "        return \"01\"\n",
    "\n",
    "bin_encoding = \"\"\n",
    "for item in splunk_diff.apply(check, axis=1).iteritems():\n",
    "    bin_encoding = bin_encoding + item[1]\n",
    "\n",
    "print bin_encoding"
   ]
  },
  {
   "cell_type": "markdown",
   "metadata": {},
   "source": [
    "## TEST 01 - FREQUENCY (MONOBIT)\n",
    "\n",
    "This test looks at the proportion of 0 bits to 1 bits in a given binary sequence. Assuming the sequence is uniformly distributed this proportion should be close to 1 meaning that the number of 1 bits was approximately equal to the number of 0 bits. In this context, because a 0 bit represents a down day and a 1 bit represents an up day, this test checks whether down and up days on the market are uniformly distributed over time i.e. equally probable.\n",
    "\n",
    "A failure of the monobit test may indicate something about the relative profitability of simple buy and hold strategies because, if the market is more likely to go up than down, then simply buying and holding the market is likely to be a profitable trading strategy. This assumes, however, that the average size of an up-day in percentage terms is greater than or equal to the average size of a down-day in percentage terms."
   ]
  },
  {
   "cell_type": "code",
   "execution_count": 7,
   "metadata": {
    "collapsed": false
   },
   "outputs": [
    {
     "name": "stdout",
     "output_type": "stream",
     "text": [
      "0.215138341156\n"
     ]
    }
   ],
   "source": [
    "import math\n",
    "import scipy.special as spc\n",
    "def monobit(bin_data):\n",
    "    \"\"\"\n",
    "    Note that this description is taken from the NIST documentation [1]\n",
    "    [1] http://csrc.nist.gov/publications/nistpubs/800-22-rev1a/SP800-22rev1a.pdf\n",
    "  \n",
    "    The focus of this test is the proportion of zeros and ones for the entire sequence. The purpose of this test is\n",
    "    to determine whether the number of ones and zeros in a sequence are approximately the same as would be expected\n",
    "    for a truly random sequence. This test assesses the closeness of the fraction of ones to 1/2, that is the number\n",
    "    of ones and zeros ina  sequence should be about the same. All subsequent tests depend on this test.\n",
    "  \n",
    "    :param bin_data: a binary string\n",
    "    :return: the p-value from the test\n",
    "    \"\"\"\n",
    "    count = 0\n",
    "    # If the char is 0 minus 1, else add 1\n",
    "    for char in bin_data:\n",
    "        if char == '0':\n",
    "            count -= 1\n",
    "        else:\n",
    "            count += 1\n",
    "    # Calculate the p value\n",
    "    sobs = count / math.sqrt(len(bin_data))\n",
    "    p_val = spc.erfc(math.fabs(sobs) / math.sqrt(2))\n",
    "    return p_val\n",
    "\n",
    "# http://blog.minitab.com/blog/understanding-statistics/what-can-you-say-when-your-p-value-is-greater-than-005\n",
    "print monobit(bin_encoding)"
   ]
  },
  {
   "cell_type": "code",
   "execution_count": 9,
   "metadata": {
    "collapsed": false
   },
   "outputs": [
    {
     "name": "stdout",
     "output_type": "stream",
     "text": [
      "{'1': 608, '0': 652}\n"
     ]
    }
   ],
   "source": [
    "count = {\"1\":0,\"0\":0}\n",
    "for c in bin_encoding:\n",
    "    if c == \"1\" :\n",
    "        count[\"1\"] +=  1\n",
    "    else:\n",
    "        count[\"0\"] += 1\n",
    "\n",
    "print count "
   ]
  },
  {
   "cell_type": "markdown",
   "metadata": {},
   "source": [
    "## TEST 02 - BLOCK FREQUENCY TEST\n",
    "\n",
    "This test is a generalization of the Monobit test which looks the proportion of 0 bits to 1 bits in NN blocks of size MM extracted from a given binary sequence. Assuming uniform randomness the number of 0 bits and 1 bits should be approximately M2M2 per block i.e. each block is filled with, on average, as many 1 bits and 0 bits. In our context this test looks at the probability of up and down days occurring over finite \"windows\" or periods of time. "
   ]
  },
  {
   "cell_type": "code",
   "execution_count": 10,
   "metadata": {
    "collapsed": false
   },
   "outputs": [
    {
     "name": "stdout",
     "output_type": "stream",
     "text": [
      "4.17259106753e-247\n"
     ]
    }
   ],
   "source": [
    "def block_frequency(bin_data, block_size=64):\n",
    "    \"\"\"\n",
    "    Note that this description is taken from the NIST documentation [1]\n",
    "    [1] http://csrc.nist.gov/publications/nistpubs/800-22-rev1a/SP800-22rev1a.pdf\n",
    "    The focus of this tests is the proportion of ones within M-bit blocks. The purpose of this tests is to determine\n",
    "    whether the frequency of ones in an M-bit block is approximately M/2, as would be expected under an assumption\n",
    "    of randomness. For block size M=1, this test degenerates to the monobit frequency test.\n",
    "    :param bin_data: a binary string\n",
    "    :return: the p-value from the test\n",
    "    :param block_size: the size of the blocks that the binary sequence is partitioned into\n",
    "    \"\"\"\n",
    "    # Work out the number of blocks, discard the remainder\n",
    "    num_blocks = int(math.floor(len(bin_data) / block_size))\n",
    "    block_start, block_end = 0, block_size\n",
    "    # Keep track of the proportion of ones per block\n",
    "    proportion_sum = 0.0\n",
    "    for i in range(num_blocks):\n",
    "        # Slice the binary string into a block\n",
    "        block_data = bin_data[block_start:block_end]\n",
    "        # Keep track of the number of ones\n",
    "        ones_count = 0\n",
    "        for char in block_data:\n",
    "            if char == '1':\n",
    "                ones_count += 1\n",
    "        pi = ones_count / block_size\n",
    "        proportion_sum += pow(pi - 0.5, 2.0)\n",
    "        # Update the slice locations\n",
    "        block_start += block_size\n",
    "        block_end += block_size\n",
    "    # Calculate the p-value\n",
    "    chi_squared = 4.0 * block_size * proportion_sum\n",
    "    p_val = spc.gammaincc(num_blocks / 2, chi_squared / 2)\n",
    "    return p_val\n",
    "print block_frequency(bin_encoding)"
   ]
  },
  {
   "cell_type": "markdown",
   "metadata": {},
   "source": [
    "## TEST 03 - RUNS TEST\n",
    "\n",
    "Arguably the most well known test for randomness, the runs test focusses on the number of runs which appear in a binary sequence. A run is defined as an uninterrupted sequence of identical bits. A run of length kk is an uninterrupted sequence of kk identical bits. The runs test checks whether the number of runs in the sequence is significantly different from what is expected from a sequence under the assumption of uniform randomness. The number of runs also indicates the frequency with which the sequence oscillates between 0 and 1 bits.\n",
    "\n",
    "In this context, a run is a sequence of consecutive trading days wherein the market was up or down. As such, performance on this test may imply something about either the momentum or mean reversion anomalies. Previous academic studies have shown that the market has more runs than expected and therefore the market is said to oscillate more quickly between \"up runs\" and \"down runs\" than would be expected from a random sequence. "
   ]
  },
  {
   "cell_type": "code",
   "execution_count": 11,
   "metadata": {
    "collapsed": false
   },
   "outputs": [
    {
     "name": "stdout",
     "output_type": "stream",
     "text": [
      "0.506769961267\n"
     ]
    }
   ],
   "source": [
    "def independent_runs(bin_data):\n",
    "    \"\"\"\n",
    "    Note that this description is taken from the NIST documentation [1]\n",
    "    [1] http://csrc.nist.gov/publications/nistpubs/800-22-rev1a/SP800-22rev1a.pdf\n",
    "    The focus of this tests if the total number of runs in the sequences, where a run is an uninterrupted sequence\n",
    "    of identical bits. A run of length k consists of k identical bits and is bounded before and after with a bit of\n",
    "    the opposite value. The purpose of the runs tests is to determine whether the number of runs of ones and zeros\n",
    "    of various lengths is as expected for a random sequence. In particular, this tests determines whether the\n",
    "    oscillation between zeros and ones is either too fast or too slow.\n",
    "    :param bin_data: a binary string\n",
    "    :return: the p-value from the test\n",
    "    \"\"\"\n",
    "    ones_count, n = 0, len(bin_data)\n",
    "    for char in bin_data:\n",
    "        if char == '1':\n",
    "            ones_count += 1\n",
    "    p, vobs = float(ones_count) / n, 1\n",
    "    tau = 2 / math.sqrt(len(bin_data))\n",
    "    if abs(p - 0.5) > tau:\n",
    "        return 0.0\n",
    "    else:\n",
    "        for i in range(1, n):\n",
    "            if bin_data[i] != bin_data[i - 1]:\n",
    "                vobs += 1\n",
    "        # expected_runs = 1 + 2 * (n - 1) * 0.5 * 0.5\n",
    "        # print(\"\\t\", Colours.Italics + \"Observed runs =\", vobs, \"Expected runs\", expected_runs, Colours.End)\n",
    "        num = abs(vobs - 2.0 * n * p * (1.0 - p))\n",
    "        den = 2.0 * math.sqrt(2.0 * n) * p * (1.0 - p)\n",
    "        p_val = spc.erfc(float(num / den))\n",
    "        return p_val\n",
    "\n",
    "print independent_runs(bin_encoding)"
   ]
  },
  {
   "cell_type": "markdown",
   "metadata": {},
   "source": [
    "## TEST 04 - LONGEST RUNS (IN A BLOCK) TEST\n",
    "\n",
    "As mentioned in the independent runs test (test 03) a run is any uninterrupted sequence of identical bits. The previous tests looks at the number of runs and checks whether this is statistically significantly different from the expected number of runs from a true random binary sequence. The longest run (of ones in a block) test checks whether the longest run of 1 bits in M-bit blocks is statistically significantly longer (or shorter) than what would be expected from a true random binary sequence. Since a significant difference in the length of the longest run of 1's implies a significant difference in the length of the longest run of 0's only one test is run. \n",
    "\n",
    "In this context, this test measures whether or not the number of subsequent up-days in a certain window of time is consistent with what would be produced if market returns were random and generated by a coin flip. A failure of this test may indicate the presence of either momentum or strong mean reversion. Momentum is a property of financial markets which makes the probability of the market having an up day (or down day), given a previous run of up days (or down days) higher. Mean reversion is the opposite - it is a property of financial markets which makes the probability of the market having an up day (or down day), given a previous run of up days (or down days) lower."
   ]
  },
  {
   "cell_type": "code",
   "execution_count": 12,
   "metadata": {
    "collapsed": false
   },
   "outputs": [
    {
     "name": "stdout",
     "output_type": "stream",
     "text": [
      "0.0209420436887\n"
     ]
    }
   ],
   "source": [
    "import numpy\n",
    "def longest_runs(bin_data):\n",
    "    \"\"\"\n",
    "    Note that this description is taken from the NIST documentation [1]\n",
    "    [1] http://csrc.nist.gov/publications/nistpubs/800-22-rev1a/SP800-22rev1a.pdf\n",
    "    The focus of the tests is the longest run of ones within M-bit blocks. The purpose of this tests is to determine\n",
    "    whether the length of the longest run of ones within the tested sequences is consistent with the length of the\n",
    "    longest run of ones that would be expected in a random sequence. Note that an irregularity in the expected\n",
    "    length of the longest run of ones implies that there is also an irregularity ub tge expected length of the long\n",
    "    est run of zeroes. Therefore, only one test is necessary for this statistical tests of randomness\n",
    "    :param bin_data: a binary string\n",
    "    :return: the p-value from the test\n",
    "    \"\"\"\n",
    "    if len(bin_data) < 128:\n",
    "        print(\"\\t\", \"Not enough data to run test!\")\n",
    "        return -1.0\n",
    "    elif len(bin_data) < 6272:\n",
    "        k, m = 3, 8\n",
    "        v_values = [1, 2, 3, 4]\n",
    "        pik_values = [0.21484375, 0.3671875, 0.23046875, 0.1875]\n",
    "    elif len(bin_data) < 75000:\n",
    "        k, m = 5, 128\n",
    "        v_values = [4, 5, 6, 7, 8, 9]\n",
    "        pik_values = [0.1174035788, 0.242955959, 0.249363483, 0.17517706, 0.102701071, 0.112398847]\n",
    "    else:\n",
    "        k, m = 6, 10000\n",
    "        v_values = [10, 11, 12, 13, 14, 15, 16]\n",
    "        pik_values = [0.0882, 0.2092, 0.2483, 0.1933, 0.1208, 0.0675, 0.0727]\n",
    "\n",
    "    # Work out the number of blocks, discard the remainder\n",
    "    # pik = [0.2148, 0.3672, 0.2305, 0.1875]\n",
    "    num_blocks = int(math.floor(len(bin_data) / m))\n",
    "    frequencies = numpy.zeros(k + 1)\n",
    "    block_start, block_end = 0, m\n",
    "    for i in range(num_blocks):\n",
    "        # Slice the binary string into a block\n",
    "        block_data = bin_data[block_start:block_end]\n",
    "        # Keep track of the number of ones\n",
    "        max_run_count, run_count = 0, 0\n",
    "        for j in range(0, m):\n",
    "            if block_data[j] == '1':\n",
    "                run_count += 1\n",
    "                max_run_count = max(max_run_count, run_count)\n",
    "            else:\n",
    "                max_run_count = max(max_run_count, run_count)\n",
    "                run_count = 0\n",
    "        max_run_count = max(max_run_count, run_count)\n",
    "        if max_run_count < v_values[0]:\n",
    "            frequencies[0] += 1\n",
    "        for j in range(k):\n",
    "            if max_run_count == v_values[j]:\n",
    "                frequencies[j] += 1\n",
    "        if max_run_count > v_values[k - 1]:\n",
    "            frequencies[k] += 1\n",
    "        block_start += m\n",
    "        block_end += m\n",
    "    # print(frequencies)\n",
    "    chi_squared = 0\n",
    "    for i in range(len(frequencies)):\n",
    "        chi_squared += (pow(frequencies[i] - (num_blocks * pik_values[i]), 2.0)) / (num_blocks * pik_values[i])\n",
    "    p_val = spc.gammaincc(float(k / 2), float(chi_squared / 2))\n",
    "    return p_val\n",
    "\n",
    "print longest_runs(bin_encoding)"
   ]
  },
  {
   "cell_type": "markdown",
   "metadata": {},
   "source": [
    "## TEST 05 - BINARY MATRIX RANK TEST\n",
    "The Binary Matrix Rank test is quite interesting because it takes the binary sequence and transforms it into a sequence of matrices. The test then works by testing the linear dependence between those matrices. A set of vectors is said to be linearly dependent if one or more of the vectors in the set can be defined as a linear combination of the other vectors. This is related to the concept of dimension, in that if a linearly dependent matrix were added to the set it would not result in any increased dimensionality because it would fall within the span of the previous matrices. For more information on this concept check out the Khan Academy videos.\n",
    "\n",
    "Relating the concept of linear dependence back to the financial markets context is quite difficult, but let me give it a shot anyway. Each matrix represents a window of q×qq×q days wherein the first row of each matrix represents qq days. If the first matrix, M1M1, were linearly dependent on the next matrix, M2M2, then we would be saying that the returns in the second window can be expressed as a function of the returns in the first window meaning that whether the markets went up or down in M1M1 would determine whether or not they went up or down in M2M2. Again this can either relate back to mean-reversion or momentum albeit in a more challenging way.\n"
   ]
  },
  {
   "cell_type": "code",
   "execution_count": 16,
   "metadata": {
    "collapsed": false
   },
   "outputs": [
    {
     "name": "stdout",
     "output_type": "stream",
     "text": [
      "0.693720140989\n"
     ]
    }
   ],
   "source": [
    "import copy\n",
    "\n",
    "class BinaryMatrix:\n",
    "    def __init__(self, matrix, rows, cols):\n",
    "        \"\"\"\n",
    "        This class contains the algorithm specified in the NIST suite for computing the **binary rank** of a matrix.\n",
    "        :param matrix: the matrix we want to compute the rank for\n",
    "        :param rows: the number of rows\n",
    "        :param cols: the number of columns\n",
    "        :return: a BinaryMatrix object\n",
    "        \"\"\"\n",
    "        self.num_rows = rows\n",
    "        self.num_cols = cols\n",
    "        self.matrix = matrix\n",
    "        self.m = min(rows, cols)\n",
    "\n",
    "    def compute_rank(self, verbose=False):\n",
    "        \"\"\"\n",
    "        This method computes the binary rank of self.matrix\n",
    "        :param verbose: if this is true it prints out the matrix after the forward elimination and backward elimination\n",
    "        operations on the rows. This was used to testing the method to check it is working as expected.\n",
    "        :return: the rank of the matrix.\n",
    "        \"\"\"\n",
    "        if verbose:\n",
    "            print(\"Original Matrix\\n\", self.matrix)\n",
    "\n",
    "        i = 0\n",
    "        while i < self.m - 1:\n",
    "            if self.matrix[i][i] == 1:\n",
    "                self.perform_row_operations(i, True)\n",
    "            else:\n",
    "                found = self.find_unit_element_swap(i, True)\n",
    "                if found == 1:\n",
    "                    self.perform_row_operations(i, True)\n",
    "            i += 1\n",
    "\n",
    "        if verbose:\n",
    "            print(\"Intermediate Matrix\\n\", self.matrix)\n",
    "\n",
    "        i = self.m - 1\n",
    "        while i > 0:\n",
    "            if self.matrix[i][i] == 1:\n",
    "                self.perform_row_operations(i, False)\n",
    "            else:\n",
    "                if self.find_unit_element_swap(i, False) == 1:\n",
    "                    self.perform_row_operations(i, False)\n",
    "            i -= 1\n",
    "\n",
    "        if verbose:\n",
    "            print(\"Final Matrix\\n\", self.matrix)\n",
    "\n",
    "        return self.determine_rank()\n",
    "\n",
    "    def perform_row_operations(self, i, forward_elimination):\n",
    "        \"\"\"\n",
    "        This method performs the elementary row operations. This involves xor'ing up to two rows together depending on\n",
    "        whether or not certain elements in the matrix contain 1's if the \"current\" element does not.\n",
    "        :param i: the current index we are are looking at\n",
    "        :param forward_elimination: True or False.\n",
    "        \"\"\"\n",
    "        if forward_elimination:\n",
    "            j = i + 1\n",
    "            while j < self.num_rows:\n",
    "                if self.matrix[j][i] == 1:\n",
    "                    self.matrix[j, :] = (self.matrix[j, :] + self.matrix[i, :]) % 2\n",
    "                j += 1\n",
    "        else:\n",
    "            j = i - 1\n",
    "            while j >= 0:\n",
    "                if self.matrix[j][i] == 1:\n",
    "                    self.matrix[j, :] = (self.matrix[j, :] + self.matrix[i, :]) % 2\n",
    "                j -= 1\n",
    "\n",
    "    def find_unit_element_swap(self, i, forward_elimination):\n",
    "        \"\"\"\n",
    "        This given an index which does not contain a 1 this searches through the rows below the index to see which rows\n",
    "        contain 1's, if they do then they swapped. This is done on the forward and backward elimination\n",
    "        :param i: the current index we are looking at\n",
    "        :param forward_elimination: True or False.\n",
    "        \"\"\"\n",
    "        row_op = 0\n",
    "        if forward_elimination:\n",
    "            index = i + 1\n",
    "            while index < self.num_rows and self.matrix[index][i] == 0:\n",
    "                index += 1\n",
    "            if index < self.num_rows:\n",
    "                row_op = self.swap_rows(i, index)\n",
    "        else:\n",
    "            index = i - 1\n",
    "            while index >= 0 and self.matrix[index][i] == 0:\n",
    "                index -= 1\n",
    "            if index >= 0:\n",
    "                row_op = self.swap_rows(i, index)\n",
    "        return row_op\n",
    "\n",
    "    def swap_rows(self, row_one, row_two):\n",
    "        \"\"\"\n",
    "        This method just swaps two rows in a matrix. Had to use the copy package to ensure no memory leakage\n",
    "        :param row_one: the first row we want to swap and\n",
    "        :param row_two: the row we want to swap it with\n",
    "        :return: 1\n",
    "        \"\"\"\n",
    "        temp = copy.copy(self.matrix[row_one, :])\n",
    "        self.matrix[row_one, :] = self.matrix[row_two, :]\n",
    "        self.matrix[row_two, :] = temp\n",
    "        return 1\n",
    "\n",
    "    def determine_rank(self):\n",
    "        \"\"\"\n",
    "        This method determines the rank of the transformed matrix\n",
    "        :return: the rank of the transformed matrix\n",
    "        \"\"\"\n",
    "        rank = self.m\n",
    "        i = 0\n",
    "        while i < self.num_rows:\n",
    "            all_zeros = 1\n",
    "            for j in range(self.num_cols):\n",
    "                if self.matrix[i][j] == 1:\n",
    "                    all_zeros = 0\n",
    "            if all_zeros == 1:\n",
    "                rank -= 1\n",
    "            i += 1\n",
    "        return rank\n",
    "\n",
    "def matrix_rank(bin_data, q=32):\n",
    "    \"\"\"\n",
    "    Note that this description is taken from the NIST documentation [1]\n",
    "    [1] http://csrc.nist.gov/publications/nistpubs/800-22-rev1a/SP800-22rev1a.pdf\n",
    "    The focus of the test is the rank of disjoint sub-matrices of the entire sequence. The purpose of this test is\n",
    "    to check for linear dependence among fixed length sub strings of the original sequence. Note that this test\n",
    "    also appears in the DIEHARD battery of tests.\n",
    "    :param bin_data: a binary string\n",
    "    :return: the p-value from the test\n",
    "    \"\"\"\n",
    "    shape = (q, q)\n",
    "    n = len(bin_data)\n",
    "    block_size = int(q * q)\n",
    "    num_m = int(math.floor(n / (q * q)))\n",
    "    block_start, block_end = 0, block_size\n",
    "    # print(q, n, num_m, block_size)\n",
    "\n",
    "    if num_m > 0:\n",
    "        max_ranks = [0, 0, 0]\n",
    "        for im in range(num_m):\n",
    "            block_data = bin_data[block_start:block_end]\n",
    "            block = numpy.zeros(len(block_data))\n",
    "            for i in range(len(block_data)):\n",
    "                if block_data[i] == '1':\n",
    "                    block[i] = 1.0\n",
    "            m = block.reshape(shape)\n",
    "            ranker = BinaryMatrix(m, q, q)\n",
    "            rank = ranker.compute_rank()\n",
    "            # print(rank)\n",
    "            if rank == q:\n",
    "                max_ranks[0] += 1\n",
    "            elif rank == (q - 1):\n",
    "                max_ranks[1] += 1\n",
    "            else:\n",
    "                max_ranks[2] += 1\n",
    "            # Update index trackers\n",
    "            block_start += block_size\n",
    "            block_end += block_size\n",
    "\n",
    "        piks = [1.0, 0.0, 0.0]\n",
    "        for x in range(1, 50):\n",
    "            piks[0] *= 1 - (1.0 / (2 ** x))\n",
    "        piks[1] = 2 * piks[0]\n",
    "        piks[2] = 1 - piks[0] - piks[1]\n",
    "\n",
    "        chi = 0.0\n",
    "        for i in range(len(piks)):\n",
    "            chi += pow((max_ranks[i] - piks[i] * num_m), 2.0) / (piks[i] * num_m)\n",
    "        p_val = math.exp(-chi / 2)\n",
    "        return p_val\n",
    "    else:\n",
    "        return -1.0\n",
    "\n",
    "print matrix_rank(bin_encoding)   "
   ]
  },
  {
   "cell_type": "markdown",
   "metadata": {},
   "source": [
    "## TEST 06 - DISCRETE FOURIER TRANSFORM TEST\n",
    "\n",
    "The Discrete Fourier Transform test, more widely known as the Spectral test, is one of the best known tests for random number generators. The test was developed by Donald Knuth and was used to identify some of the biggest shortcomings of the popular linear congruential family of pseudo random number generators. This test works by transforming the binary sequence from the time dimension to the frequency dimension using the discrete Fourier transform. Once this has been done the test looks for periodic features (patterns which are near to each other) whose presence would indicate a deviation from true randomness. The image below shows how this test can be used to expose the shortcomings of the aforementioned linear congruential generator family:"
   ]
  },
  {
   "cell_type": "code",
   "execution_count": 19,
   "metadata": {
    "collapsed": false
   },
   "outputs": [
    {
     "name": "stdout",
     "output_type": "stream",
     "text": [
      "0.244687485866\n"
     ]
    }
   ],
   "source": [
    "import scipy.fftpack as sff\n",
    "\n",
    "def spectral(bin_data):\n",
    "    \"\"\"\n",
    "    Note that this description is taken from the NIST documentation [1]\n",
    "    [1] http://csrc.nist.gov/publications/nistpubs/800-22-rev1a/SP800-22rev1a.pdf\n",
    "    The focus of this test is the peak heights in the Discrete Fourier Transform of the sequence. The purpose of\n",
    "    this test is to detect periodic features (i.e., repetitive patterns that are near each other) in the tested\n",
    "    sequence that would indicate a deviation from the assumption of randomness. The intention is to detect whether\n",
    "    the number of peaks exceeding the 95 % threshold is significantly different than 5 %.\n",
    "    :param bin_data: a binary string\n",
    "    :return: the p-value from the test\n",
    "    \"\"\"\n",
    "    n = len(bin_data)\n",
    "    plus_minus_one = []\n",
    "    for char in bin_data:\n",
    "        if char == '0':\n",
    "            plus_minus_one.append(-1)\n",
    "        elif char == '1':\n",
    "            plus_minus_one.append(1)\n",
    "    # Product discrete fourier transform of plus minus one\n",
    "    s = sff.fft(plus_minus_one)\n",
    "    modulus = numpy.abs(s[0:n / 2])\n",
    "    tau = numpy.sqrt(numpy.log(1 / 0.05) * n)\n",
    "    # Theoretical number of peaks\n",
    "    count_n0 = 0.95 * (n / 2)\n",
    "    # Count the number of actual peaks m > T\n",
    "    count_n1 = len(numpy.where(modulus < tau)[0])\n",
    "    # Calculate d and return the p value statistic\n",
    "    d = (count_n1 - count_n0) / numpy.sqrt(n * 0.95 * 0.05 / 4)\n",
    "    p_val = spc.erfc(abs(d) / numpy.sqrt(2))\n",
    "    return p_val\n",
    "\n",
    "print spectral(bin_encoding)"
   ]
  },
  {
   "cell_type": "markdown",
   "metadata": {},
   "source": [
    "## TEST 07 - NON-OVERLAPPING PATTERNS TEST\n",
    "\n",
    "Unlike the previous two tests, the non overlapping and the overlapping patterns tests (tests 07 and 08), are highly applicable to quantitative finance and, in particular, the development of trading strategies. The non-overlapping patterns test concerns itself with the frequency of pre-specified patterns in the binary string. If this frequency is statistically significantly different from what is expected from a true random sequence, this would indicate that the sequence is non-random and the probability of the pattern we are testing for occurring is too high or too low.\n",
    "\n",
    "For example lets assume that we believed the market was more likely than a true random sequence to exhibit the following pattern 101100011111 ... namely the Fibonacci pattern. We would then use this test and the next test to either accept or reject our hypothesis within a given level of confidence. Fantastic! The reason why I like these two tests is that they give us quantitative analysts a solid theoretical way of testing the significance of presupposed patterns in market returns. These test can be applied to concepts such as the Elliott Wave Theory and the Fractal Market Hypothesis. I'm not saying I believe in these things, what I'm saying is we can test for them."
   ]
  },
  {
   "cell_type": "code",
   "execution_count": 52,
   "metadata": {
    "collapsed": false
   },
   "outputs": [
    {
     "name": "stdout",
     "output_type": "stream",
     "text": [
      "0.746284521227\n"
     ]
    }
   ],
   "source": [
    "def non_overlapping_patterns(bin_data, pattern=\"000000001\", num_blocks=8):\n",
    "    \"\"\"\n",
    "    Note that this description is taken from the NIST documentation [1]\n",
    "    [1] http://csrc.nist.gov/publications/nistpubs/800-22-rev1a/SP800-22rev1a.pdf\n",
    "    The focus of this test is the number of occurrences of pre-specified target strings. The purpose of this\n",
    "    test is to detect generators that produce too many occurrences of a given non-periodic (aperiodic) pattern.\n",
    "    For this test and for the Overlapping Template Matching test of Section 2.8, an m-bit window is used to\n",
    "    search for a specific m-bit pattern. If the pattern is not found, the window slides one bit position. If the\n",
    "    pattern is found, the window is reset to the bit after the found pattern, and the search resumes.\n",
    "    :param bin_data: a binary string\n",
    "    :param pattern: the pattern to match to\n",
    "    :return: the p-value from the test\n",
    "    \"\"\"\n",
    "    n = len(bin_data)\n",
    "    pattern_size = len(pattern)\n",
    "    block_size = int(math.floor(n / num_blocks))\n",
    "    pattern_counts = numpy.zeros(num_blocks)\n",
    "    # For each block in the data\n",
    "    for i in range(num_blocks):\n",
    "        block_start = i * block_size\n",
    "        block_end = block_start + block_size\n",
    "        block_data = bin_data[block_start:block_end]\n",
    "        # Count the number of pattern hits\n",
    "        j = 0\n",
    "        while j < block_size:\n",
    "            sub_block = block_data[j:j + pattern_size]\n",
    "            if sub_block == pattern:\n",
    "                pattern_counts[i] += 1\n",
    "                j += pattern_size\n",
    "            else:\n",
    "                j += 1\n",
    "    # Calculate the theoretical mean and variance\n",
    "    mean = float((block_size - pattern_size + 1)) / pow(2, pattern_size)\n",
    "    var = block_size * ((1 / pow(2.0, pattern_size)) - ((2 * pattern_size) - 1) / (pow(2.0, pattern_size * 2)))\n",
    "\n",
    "    # Calculate the Chi Squared statistic for these pattern matches\n",
    "    chi_squared = 0\n",
    "    for i in range(num_blocks):\n",
    "        chi_squared += pow(pattern_counts[i] - mean, 2.0) / var\n",
    "    # Calculate and return the p value statistic\n",
    "    p_val = spc.gammaincc(num_blocks / 2, chi_squared / 2)\n",
    "    return p_val\n",
    "\n",
    "print non_overlapping_patterns(bin_encoding)"
   ]
  },
  {
   "cell_type": "markdown",
   "metadata": {},
   "source": [
    "## TEST 08 - OVERLAPPING PATTERNS TEST\n",
    "\n",
    "The difference between the overlapping patterns test and the non-overlapping patterns test, apart from some of the calculations as can be seen in the NIST suite documentation, is the way that the patterns are tested. In the non overlapping patterns test once a pattern of length mm has been matched, you skip to the end of the pattern and continue searching, whereas with the overlapping patterns test you continue searching from the next bit. For more of my thoughts on this test, please see the previous test, the non-overlapping patterns test.\n"
   ]
  },
  {
   "cell_type": "code",
   "execution_count": 57,
   "metadata": {
    "collapsed": false
   },
   "outputs": [
    {
     "name": "stdout",
     "output_type": "stream",
     "text": [
      "0.886588558211\n"
     ]
    }
   ],
   "source": [
    "def get_prob(u, x):\n",
    "    out = 1.0 * numpy.exp(-x)\n",
    "    if u != 0:\n",
    "        out = 1.0 * x * numpy.exp(2 * -x) * (2 ** -u) * spc.hyp1f1(u + 1, 2, x)\n",
    "    return out\n",
    "\n",
    "def overlapping_patterns(bin_data, pattern_size=9, block_size=1032):\n",
    "    \"\"\"\n",
    "    Note that this description is taken from the NIST documentation [1]\n",
    "    [1] http://csrc.nist.gov/publications/nistpubs/800-22-rev1a/SP800-22rev1a.pdf\n",
    "    The focus of the Overlapping Template Matching test is the number of occurrences of pre-specified target\n",
    "    strings. Both this test and the Non-overlapping Template Matching test of Section 2.7 use an m-bit\n",
    "    window to search for a specific m-bit pattern. As with the test in Section 2.7, if the pattern is not found,\n",
    "    the window slides one bit position. The difference between this test and the test in Section 2.7 is that\n",
    "    when the pattern is found, the window slides only one bit before resuming the search.\n",
    "    :param bin_data: a binary string\n",
    "    :param pattern_size: the length of the pattern\n",
    "    :return: the p-value from the test\n",
    "    \"\"\"\n",
    "    n = len(bin_data)\n",
    "    pattern = \"\"\n",
    "    for i in range(pattern_size):\n",
    "        pattern += \"1\"\n",
    "    num_blocks = int(math.floor(n / block_size))\n",
    "    lambda_val = float(block_size - pattern_size + 1) / pow(2, pattern_size)\n",
    "    eta = lambda_val / 2.0\n",
    "\n",
    "    piks = [get_prob(i, eta) for i in range(5)]\n",
    "    diff = float(numpy.array(piks).sum())\n",
    "    piks.append(1.0 - diff)\n",
    "\n",
    "    pattern_counts = numpy.zeros(6)\n",
    "    for i in range(num_blocks):\n",
    "        block_start = i * block_size\n",
    "        block_end = block_start + block_size\n",
    "        block_data = bin_data[block_start:block_end]\n",
    "        # Count the number of pattern hits\n",
    "        pattern_count = 0\n",
    "        j = 0\n",
    "        while j < block_size:\n",
    "            sub_block = block_data[j:j + pattern_size]\n",
    "            if sub_block == pattern:\n",
    "                pattern_count += 1\n",
    "            j += 1\n",
    "        if pattern_count <= 4:\n",
    "            pattern_counts[pattern_count] += 1\n",
    "        else:\n",
    "            pattern_counts[5] += 1\n",
    "\n",
    "    chi_squared = 0.0\n",
    "    for i in range(len(pattern_counts)):\n",
    "        chi_squared += pow(pattern_counts[i] - num_blocks * piks[i], 2.0) / (num_blocks * piks[i])\n",
    "    return spc.gammaincc(5.0 / 2.0, chi_squared / 2.0)\n",
    "\n",
    "print overlapping_patterns(bin_encoding)"
   ]
  },
  {
   "cell_type": "markdown",
   "metadata": {},
   "source": [
    "## TEST 09 - UNIVERSAL TEST\n",
    "\n",
    "Maurer's universal statistical test is an interesting statistical test which checks whether the distance (measured in bits) between repeating patterns is as would be expected from a uniform random sequence. The theoretical idea behind this test and the linear complexity test is that non-random sequences are not supposed to be compressible. To explain this concept, consider the fact that most pseudo-random number generators have a period and when that period is exhausted the bits in the sequence begin to repeat. When this happens, the distance between matching patterns would decrease and eventually the universal test would deem the sequence non-random. Unfortunately, the test requires a very significant amount of data to be statistically significant. In fact, working with daily returns data we would need about 1500 years worth of daily data before we could apply this test!\n"
   ]
  },
  {
   "cell_type": "code",
   "execution_count": 60,
   "metadata": {
    "collapsed": false
   },
   "outputs": [
    {
     "name": "stdout",
     "output_type": "stream",
     "text": [
      "5\n",
      "-1.0\n"
     ]
    }
   ],
   "source": [
    "def universal(bin_data):\n",
    "    \"\"\"\n",
    "    Note that this description is taken from the NIST documentation [1]\n",
    "    [1] http://csrc.nist.gov/publications/nistpubs/800-22-rev1a/SP800-22rev1a.pdf\n",
    "    The focus of this test is the number of bits between matching patterns (a measure that is related to the\n",
    "    length of a compressed sequence). The purpose of the test is to detect whether or not the sequence can be\n",
    "    significantly compressed without loss of information. A significantly compressible sequence is considered\n",
    "    to be non-random. **This test is always skipped because the requirements on the lengths of the binary\n",
    "    strings are too high i.e. there have not been enough trading days to meet the requirements.\n",
    "    :param bin_data: a binary string\n",
    "    :return: the p-value from the test\n",
    "    \"\"\"\n",
    "    # The below table is less relevant for us traders and markets than it is for security people\n",
    "    n = len(bin_data)\n",
    "    pattern_size = 5\n",
    "    if n >= 387840:\n",
    "        pattern_size = 6\n",
    "    if n >= 904960:\n",
    "        pattern_size = 7\n",
    "    if n >= 2068480:\n",
    "        pattern_size = 8\n",
    "    if n >= 4654080:\n",
    "        pattern_size = 9\n",
    "    if n >= 10342400:\n",
    "        pattern_size = 10\n",
    "    if n >= 22753280:\n",
    "        pattern_size = 11\n",
    "    if n >= 49643520:\n",
    "        pattern_size = 12\n",
    "    if n >= 107560960:\n",
    "        pattern_size = 13\n",
    "    if n >= 231669760:\n",
    "        pattern_size = 14\n",
    "    if n >= 496435200:\n",
    "        pattern_size = 15\n",
    "    if n >= 1059061760:\n",
    "        pattern_size = 16\n",
    "\n",
    "    if 5 < pattern_size < 16:\n",
    "        # Create the biggest binary string of length pattern_size\n",
    "        ones = \"\"\n",
    "        for i in range(pattern_size):\n",
    "            ones += \"1\"\n",
    "\n",
    "        # How long the state list should be\n",
    "        num_ints = int(ones, 2)\n",
    "        vobs = numpy.zeros(num_ints + 1)\n",
    "\n",
    "        # Keeps track of the blocks, and whether were are initializing or summing\n",
    "        num_blocks = math.floor(n / pattern_size)\n",
    "        init_bits = 10 * pow(2, pattern_size)\n",
    "        test_bits = num_blocks - init_bits\n",
    "        \n",
    "        print num_blocks, init_bits, test_bits\n",
    "    \n",
    "        # These are the expected values assuming randomness (uniform)\n",
    "        c = 0.7 - 0.8 / pattern_size + (4 + 32 / pattern_size) * pow(test_bits, -3 / pattern_size) / 15\n",
    "        variance = [0, 0, 0, 0, 0, 0, 2.954, 3.125, 3.238, 3.311, 3.356, 3.384, 3.401, 3.410, 3.416, 3.419, 3.421]\n",
    "        expected = [0, 0, 0, 0, 0, 0, 5.2177052, 6.1962507, 7.1836656, 8.1764248, 9.1723243,\n",
    "                    10.170032, 11.168765, 12.168070, 13.167693, 14.167488, 15.167379]\n",
    "        sigma = c * math.sqrt(variance[pattern_size] / test_bits)\n",
    "\n",
    "        cumsum = 0.0\n",
    "        for i in range(num_blocks):\n",
    "            block_start = i * pattern_size\n",
    "            block_end = block_start + pattern_size\n",
    "            block_data = bin_data[block_start: block_end]\n",
    "            # Work out what state we are in\n",
    "            int_rep = int(block_data, 2)\n",
    "\n",
    "            # Initialize the state list\n",
    "            if i < init_bits:\n",
    "                vobs[int_rep] = i + 1\n",
    "            else:\n",
    "                initial = vobs[int_rep]\n",
    "                vobs[int_rep] = i + 1\n",
    "                cumsum += math.log(i - initial + 1, 2)\n",
    "\n",
    "        # Calculate the statistic\n",
    "        phi = float(cumsum / test_bits)\n",
    "        stat = abs(phi - expected[pattern_size]) / (float(math.sqrt(2)) * sigma)\n",
    "        p_val = spc.erfc(stat)\n",
    "        return p_val\n",
    "    else:\n",
    "        return -1.0\n",
    "\n",
    "print universal(bin_encoding)"
   ]
  },
  {
   "cell_type": "markdown",
   "metadata": {},
   "source": [
    "## TEST 10 - LINEAR COMPLEXITY TEST\n",
    "\n",
    "The linear complexity test is one of the most interesting tests in the NIST suite from a pure Computer Science point of view. Like the universal test, the linear complexity test is concerned with the compressibility of the binary sequence. The linear complexity test aims to check this by approximating a linear feedback shift register (LSFR) for the binary sequence. A shift register is a cascade of flip-flops which can be used to store state information. A LSFR is a shift register whose input bit is a linear function of the previous state. \n",
    "\n",
    "The linear complexity test works as follows. Firstly, the shortest LSFR is approximated using the Berlekamp–Massey algorithm and then the length of that LSFR is compared against what would be expected from a true uniform random sequence. The thinking here is that if the LSFR is significantly shorter than expected, then the sequence is compressible and therefore non random. The image below shows an LSFR at work."
   ]
  },
  {
   "cell_type": "code",
   "execution_count": 62,
   "metadata": {
    "collapsed": false
   },
   "outputs": [
    {
     "name": "stdout",
     "output_type": "stream",
     "text": [
      "0.919688853865\n"
     ]
    }
   ],
   "source": [
    "def berlekamp_massey_algorithm(block_data):\n",
    "    \"\"\"\n",
    "    An implementation of the Berlekamp Massey Algorithm. Taken from Wikipedia [1]\n",
    "    [1] - https://en.wikipedia.org/wiki/Berlekamp-Massey_algorithm\n",
    "    The Berlekamp–Massey algorithm is an algorithm that will find the shortest linear feedback shift register (LFSR)\n",
    "    for a given binary output sequence. The algorithm will also find the minimal polynomial of a linearly recurrent\n",
    "    sequence in an arbitrary field. The field requirement means that the Berlekamp–Massey algorithm requires all\n",
    "    non-zero elements to have a multiplicative inverse.\n",
    "    :param block_data:\n",
    "    :return:\n",
    "    \"\"\"\n",
    "    n = len(block_data)\n",
    "    c = numpy.zeros(n)\n",
    "    b = numpy.zeros(n)\n",
    "    c[0], b[0] = 1, 1\n",
    "    l, m, i = 0, -1, 0\n",
    "    int_data = [int(el) for el in block_data]\n",
    "    while i < n:\n",
    "        v = int_data[(i - l):i]\n",
    "        v = v[::-1]\n",
    "        cc = c[1:l + 1]\n",
    "        d = (int_data[i] + numpy.dot(v, cc)) % 2\n",
    "        if d == 1:\n",
    "            temp = copy.copy(c)\n",
    "            p = numpy.zeros(n)\n",
    "            for j in range(0, l):\n",
    "                if b[j] == 1:\n",
    "                    p[j + i - m] = 1\n",
    "            c = (c + p) % 2\n",
    "            if l <= 0.5 * i:\n",
    "                l = i + 1 - l\n",
    "                m = i\n",
    "                b = temp\n",
    "        i += 1\n",
    "    return l\n",
    "\n",
    "def linear_complexity(bin_data, block_size=500):\n",
    "    \"\"\"\n",
    "    Note that this description is taken from the NIST documentation [1]\n",
    "    [1] http://csrc.nist.gov/publications/nistpubs/800-22-rev1a/SP800-22rev1a.pdf\n",
    "    The focus of this test is the length of a linear feedback shift register (LFSR). The purpose of this test is to\n",
    "    determine whether or not the sequence is complex enough to be considered random. Random sequences are\n",
    "    characterized by longer LFSRs. An LFSR that is too short implies non-randomness.\n",
    "    :param bin_data: a binary string\n",
    "    :param block_size: the size of the blocks to divide bin_data into. Recommended block_size >= 500\n",
    "    :return:\n",
    "    \"\"\"\n",
    "    dof = 6\n",
    "    piks = [0.01047, 0.03125, 0.125, 0.5, 0.25, 0.0625, 0.020833]\n",
    "\n",
    "    t2 = (block_size / 3.0 + 2.0 / 9) / 2 ** block_size\n",
    "    mean = 0.5 * block_size + (1.0 / 36) * (9 + (-1) ** (block_size + 1)) - t2\n",
    "\n",
    "    num_blocks = int(len(bin_data) / block_size)\n",
    "    if num_blocks > 1:\n",
    "        block_end = block_size\n",
    "        block_start = 0\n",
    "        blocks = []\n",
    "        for i in range(num_blocks):\n",
    "            blocks.append(bin_data[block_start:block_end])\n",
    "            block_start += block_size\n",
    "            block_end += block_size\n",
    "\n",
    "        complexities = []\n",
    "        for block in blocks:\n",
    "            complexities.append(berlekamp_massey_algorithm(block))\n",
    "\n",
    "        t = ([-1.0 * (((-1) ** block_size) * (chunk - mean) + 2.0 / 9) for chunk in complexities])\n",
    "        vg = numpy.histogram(t, bins=[-9999999999, -2.5, -1.5, -0.5, 0.5, 1.5, 2.5, 9999999999])[0][::-1]\n",
    "        im = ([((vg[ii] - num_blocks * piks[ii]) ** 2) / (num_blocks * piks[ii]) for ii in range(7)])\n",
    "\n",
    "        chi_squared = 0.0\n",
    "        for i in range(len(piks)):\n",
    "            chi_squared += im[i]\n",
    "        p_val = spc.gammaincc(dof / 2.0, chi_squared / 2.0)\n",
    "        return p_val\n",
    "    else:\n",
    "        return -1.0\n",
    "\n",
    "print linear_complexity(bin_encoding)"
   ]
  },
  {
   "cell_type": "markdown",
   "metadata": {},
   "source": [
    "## TEST 11 - SERIAL TEST\n",
    "\n",
    "The serial test is similar to the overlapping patterns test, except that instead of test for one mm-bit long sequence it computes every possible mm-bit long sequence (of which there are 2m2m), and computes their frequencies. The idea behind this test is that random sequences exhibit uniformity meaning that each pattern should appear approximately as many times as every other pattern. If this is not the case, and some of the patterns appear significantly too few or too many times, then the sequence is deemed non random. In this context we could use the test to identify those patterns which appear \"too frequently\" and bet on them occurring again.\n"
   ]
  },
  {
   "cell_type": "code",
   "execution_count": 63,
   "metadata": {
    "collapsed": false
   },
   "outputs": [
    {
     "name": "stdout",
     "output_type": "stream",
     "text": [
      "0.498961087459\n"
     ]
    }
   ],
   "source": [
    "def serial( bin_data, pattern_length=16, method=\"first\"):\n",
    "    \"\"\"\n",
    "    Note that this description is taken from the NIST documentation [1]\n",
    "    [1] http://csrc.nist.gov/publications/nistpubs/800-22-rev1a/SP800-22rev1a.pdf\n",
    "    The focus of this test is the frequency of all possible overlapping m-bit patterns across the entire\n",
    "    sequence. The purpose of this test is to determine whether the number of occurrences of the 2m m-bit\n",
    "    overlapping patterns is approximately the same as would be expected for a random sequence. Random\n",
    "    sequences have uniformity; that is, every m-bit pattern has the same chance of appearing as every other\n",
    "    m-bit pattern. Note that for m = 1, the Serial test is equivalent to the Frequency test of Section 2.1.\n",
    "    :param bin_data: a binary string\n",
    "    :param pattern_length: the length of the pattern (m)\n",
    "    :return: the P value\n",
    "    \"\"\"\n",
    "    n = len(bin_data)\n",
    "    # Add first m-1 bits to the end\n",
    "    bin_data += bin_data[:pattern_length - 1:]\n",
    "\n",
    "    # Get max length one patterns for m, m-1, m-2\n",
    "    max_pattern = ''\n",
    "    for i in range(pattern_length + 1):\n",
    "        max_pattern += '1'\n",
    "\n",
    "    # Keep track of each pattern's frequency (how often it appears)\n",
    "    vobs_one = numpy.zeros(int(max_pattern[0:pattern_length:], 2) + 1)\n",
    "    vobs_two = numpy.zeros(int(max_pattern[0:pattern_length-1:], 2) + 1)\n",
    "    vobs_thr = numpy.zeros(int(max_pattern[0:pattern_length-2:], 2) + 1)\n",
    "\n",
    "    for i in range(n):\n",
    "        # Work out what pattern is observed\n",
    "        vobs_one[int(bin_data[i:i + pattern_length:], 2)] += 1\n",
    "        vobs_two[int(bin_data[i:i + pattern_length-1:], 2)] += 1\n",
    "        vobs_thr[int(bin_data[i:i + pattern_length-2:], 2)] += 1\n",
    "\n",
    "    vobs = [vobs_one, vobs_two, vobs_thr]\n",
    "    sums = numpy.zeros(3)\n",
    "    for i in range(3):\n",
    "        for j in range(len(vobs[i])):\n",
    "            sums[i] += pow(vobs[i][j], 2)\n",
    "        sums[i] = (sums[i] * pow(2, pattern_length-i)/n) - n\n",
    "\n",
    "    # Calculate the test statistics and p values\n",
    "    del1 = sums[0] - sums[1]\n",
    "    del2 = sums[0] - 2.0 * sums[1] + sums[2]\n",
    "    p_val_one = spc.gammaincc(pow(2, pattern_length-1)/2, del1/2.0)\n",
    "    p_val_two = spc.gammaincc(pow(2, pattern_length-2)/2, del2/2.0)\n",
    "\n",
    "    # For checking the outputs\n",
    "    if method == \"first\":\n",
    "        return p_val_one\n",
    "    else:\n",
    "        # I am not sure if this is correct, but it makes sense to me.\n",
    "        return min(p_val_one, p_val_two)\n",
    "    \n",
    "print serial(bin_encoding)"
   ]
  },
  {
   "cell_type": "markdown",
   "metadata": {},
   "source": [
    "## TEST 12 - APPROXIMATE ENTROPY\n",
    "\n",
    "Generally speaking, an approximate entropy is a statistical technique used to determine how unpredictable (random) fluctuations over time-series data are. The approximate entropy test is similar to the serial test (test 11) in that it also focusses on the frequency of all possible overlapping mm-bit patterns across the binary sequence. The difference is that this test compares the frequency of overlapping blocks of two consecutive or adjacent lengths (mm and m+1m+1) against the expected result for a random sequence. To be more specific, the frequencies of all possible mm-bit and (m+1)(m+1)-bit frequencies are computed and the Chi-squared statistic is then used to determine whether or not the difference between these two observations implies that the sequence is non-random."
   ]
  },
  {
   "cell_type": "code",
   "execution_count": 64,
   "metadata": {
    "collapsed": false
   },
   "outputs": [
    {
     "name": "stdout",
     "output_type": "stream",
     "text": [
      "0.888957109311\n"
     ]
    }
   ],
   "source": [
    "def approximate_entropy(bin_data , pattern_length=10):\n",
    "    \"\"\"\n",
    "    Note that this description is taken from the NIST documentation [1]\n",
    "    [1] http://csrc.nist.gov/publications/nistpubs/800-22-rev1a/SP800-22rev1a.pdf\n",
    "    As with the Serial test of Section 2.11, the focus of this test is the frequency of all possible overlapping\n",
    "    m-bit patterns across the entire sequence. The purpose of the test is to compare the frequency of overlapping\n",
    "    blocks of two consecutive/adjacent lengths (m and m+1) against the expected result for a random sequence.\n",
    "    :param bin_data: a binary string\n",
    "    :param pattern_length: the length of the pattern (m)\n",
    "    :return: the P value\n",
    "    \"\"\"\n",
    "    n = len(bin_data)\n",
    "    # Add first m+1 bits to the end\n",
    "    # NOTE: documentation says m-1 bits but that doesnt make sense, or work.\n",
    "    bin_data += bin_data[:pattern_length + 1:]\n",
    "\n",
    "    # Get max length one patterns for m, m-1, m-2\n",
    "    max_pattern = ''\n",
    "    for i in range(pattern_length + 2):\n",
    "        max_pattern += '1'\n",
    "\n",
    "    # Keep track of each pattern's frequency (how often it appears)\n",
    "    vobs_one = numpy.zeros(int(max_pattern[0:pattern_length:], 2) + 1)\n",
    "    vobs_two = numpy.zeros(int(max_pattern[0:pattern_length + 1:], 2) + 1)\n",
    "\n",
    "    for i in range(n):\n",
    "        # Work out what pattern is observed\n",
    "        vobs_one[int(bin_data[i:i + pattern_length:], 2)] += 1\n",
    "        vobs_two[int(bin_data[i:i + pattern_length + 1:], 2)] += 1\n",
    "\n",
    "    # Calculate the test statistics and p values\n",
    "    vobs = [vobs_one, vobs_two]\n",
    "    sums = numpy.zeros(2)\n",
    "    for i in range(2):\n",
    "        for j in range(len(vobs[i])):\n",
    "            if vobs[i][j] > 0:\n",
    "                sums[i] += vobs[i][j] * math.log(vobs[i][j] / n)\n",
    "    sums /= n\n",
    "    ape = sums[0] - sums[1]\n",
    "    chi_squared = 2.0 * n * (math.log(2) - ape)\n",
    "    p_val = spc.gammaincc(pow(2, pattern_length-1), chi_squared/2.0)\n",
    "    return p_val\n",
    "\n",
    "print approximate_entropy(bin_encoding)"
   ]
  },
  {
   "cell_type": "markdown",
   "metadata": {},
   "source": [
    "## TEST 13 - CUMULATIVE SUMS\n",
    "\n",
    "The next three tests (the cumulative sums test, random excursions test, and random excursions variant test) are my personal favourites from the NIST suite because they deal directly with the concept of a random walk. As some of you will know random walks (stochastic processes) are a topic which I have written about previously and plan to continue writing about over the next few years as I develop the Mzansi stochastic processes R package.\n",
    "\n",
    "The cumulative sums test turns the supposedly random binary sequence into a random walk by replacing each 0-bit with (-1) and each 1-but with (+1) and them calculating the cumulative sum at each point along the sequence. The test then checks whether the absolute maximum cumulative sum at any point along this sequence is within the range of what would be expected from a true uniform random sequence. This process is illustrated below,\n",
    "\n",
    "http://www.turingfinance.com/wp-content/uploads/2015/09/Cumulative-Sums.png\n",
    "\n",
    "Relating this idea back to the markets, if the absolute peaks (which may represent the bottom of bull markets or bear markets) are significantly higher or lower than what would be expected, then this could indicate the presence of various market phenomena including bull and bear markets, cycles, mean-reversion, or momentum. "
   ]
  },
  {
   "cell_type": "code",
   "execution_count": 66,
   "metadata": {
    "collapsed": false
   },
   "outputs": [
    {
     "name": "stdout",
     "output_type": "stream",
     "text": [
      "0.389815290752\n"
     ]
    }
   ],
   "source": [
    "import scipy.stats as sst\n",
    "def cumulative_sums(bin_data, method=\"forward\"):\n",
    "    \"\"\"\n",
    "    Note that this description is taken from the NIST documentation [1]\n",
    "    [1] http://csrc.nist.gov/publications/nistpubs/800-22-rev1a/SP800-22rev1a.pdf\n",
    "    The focus of this test is the maximal excursion (from zero) of the random walk defined by the cumulative sum of\n",
    "    adjusted (-1, +1) digits in the sequence. The purpose of the test is to determine whether the cumulative sum of\n",
    "    the partial sequences occurring in the tested sequence is too large or too small relative to the expected\n",
    "    behavior of that cumulative sum for random sequences. This cumulative sum may be considered as a random walk.\n",
    "    For a random sequence, the excursions of the random walk should be near zero. For certain types of non-random\n",
    "    sequences, the excursions of this random walk from zero will be large.\n",
    "    :param bin_data: a binary string\n",
    "    :param method: the method used to calculate the statistic\n",
    "    :return: the P-value\n",
    "    \"\"\"\n",
    "    n = len(bin_data)\n",
    "    counts = numpy.zeros(n)\n",
    "    # Calculate the statistic using a walk forward\n",
    "    if method != \"forward\":\n",
    "        bin_data = bin_data[::-1]\n",
    "\n",
    "    ix = 0\n",
    "    for char in bin_data:\n",
    "        sub = 1\n",
    "        if char == '0':\n",
    "            sub = -1\n",
    "        if ix > 0:\n",
    "            counts[ix] = counts[ix - 1] + sub\n",
    "        else:\n",
    "            counts[ix] = sub\n",
    "        ix += 1\n",
    "\n",
    "    # This is the maximum absolute level obtained by the sequence\n",
    "    abs_max = numpy.max(numpy.abs(counts))\n",
    "\n",
    "    start = int(numpy.floor(0.25 * numpy.floor(-n / abs_max) + 1))\n",
    "    end = int(numpy.floor(0.25 * numpy.floor(n / abs_max) - 1))\n",
    "    terms_one = []\n",
    "    for k in range(start, end + 1):\n",
    "        sub = sst.norm.cdf((4 * k - 1) * abs_max / numpy.sqrt(n))\n",
    "        terms_one.append(sst.norm.cdf((4 * k + 1) * abs_max / numpy.sqrt(n)) - sub)\n",
    "\n",
    "    start = int(numpy.floor(0.25 * numpy.floor(-n / abs_max - 3)))\n",
    "    end = int(numpy.floor(0.25 * numpy.floor(n / abs_max) - 1))\n",
    "    terms_two = []\n",
    "    for k in range(start, end + 1):\n",
    "        sub = sst.norm.cdf((4 * k + 1) * abs_max / numpy.sqrt(n))\n",
    "        terms_two.append(sst.norm.cdf((4 * k + 3) * abs_max / numpy.sqrt(n)) - sub)\n",
    "\n",
    "    p_val = 1.0 - numpy.sum(numpy.array(terms_one))\n",
    "    p_val += numpy.sum(numpy.array(terms_two))\n",
    "    return p_val\n",
    "\n",
    "print cumulative_sums(bin_encoding)"
   ]
  },
  {
   "cell_type": "markdown",
   "metadata": {},
   "source": [
    "## TEST 14 - RANDOM EXCURSIONS\n",
    "\n",
    "As with the cumulative sums test the random excursions test deals with the concept of a random walk. The difference however, is that the random excursions test introduces the concept of cycles, and states. A cycle is any sub-sequence which starts and ends at 0, and a state is the level of the random walk at each step. The states considered in this test include -4, -3, ..., +3, +4. The test determines whether or not the number of times each state is visited, kk, in each cycle is as would be expected from a uniform binary sequence. This is illustrated below,\n",
    "http://www.turingfinance.com/wp-content/uploads/2015/09/Random-Excursions-Exaplanation-V.jpeg"
   ]
  },
  {
   "cell_type": "code",
   "execution_count": 68,
   "metadata": {
    "collapsed": false
   },
   "outputs": [
    {
     "name": "stdout",
     "output_type": "stream",
     "text": [
      "[0.59990105857330711, 0.16297424395974003, 0.18510662505372599, 0.8335669395163221, 0.010362337915786429, 0.4173887317781293, 0.82590382900290937, 0.93628624739509303]\n"
     ]
    }
   ],
   "source": [
    "def get_pik_value(k, x):\n",
    "    \"\"\"\n",
    "    This method is used by the random_excursions method to get expected probabilities\n",
    "    \"\"\"\n",
    "    if k == 0:\n",
    "        out = 1 - 1.0 / (2 * numpy.abs(x))\n",
    "    elif k >= 5:\n",
    "        out = (1.0 / (2 * numpy.abs(x))) * (1 - 1.0 / (2 * numpy.abs(x))) ** 4\n",
    "    else:\n",
    "        out = (1.0 / (4 * x * x)) * (1 - 1.0 / (2 * numpy.abs(x))) ** (k - 1)\n",
    "    return out\n",
    "\n",
    "def random_excursions(bin_data):\n",
    "    \"\"\"\n",
    "    Note that this description is taken from the NIST documentation [1]\n",
    "    [1] http://csrc.nist.gov/publications/nistpubs/800-22-rev1a/SP800-22rev1a.pdf\n",
    "    The focus of this test is the number of cycles having exactly K visits in a cumulative sum random walk. The\n",
    "    cumulative sum random walk is derived from partial sums after the (0,1) sequence is transferred to the\n",
    "    appropriate (-1, +1) sequence. A cycle of a random walk consists of a sequence of steps of unit length taken at\n",
    "    random that begin at and return to the origin. The purpose of this test is to determine if the number of visits\n",
    "    to a particular state within a cycle deviates from what one would expect for a random sequence. This test is\n",
    "    actually a series of eight tests (and conclusions), one test and conclusion for each of the states:\n",
    "    States -> -4, -3, -2, -1 and +1, +2, +3, +4.\n",
    "    :param bin_data: a binary string\n",
    "    :return: the P-value\n",
    "    \"\"\"\n",
    "    # Turn all the binary digits into +1 or -1\n",
    "    int_data = numpy.zeros(len(bin_data))\n",
    "    for i in range(len(bin_data)):\n",
    "        if bin_data[i] == '0':\n",
    "            int_data[i] = -1.0\n",
    "        else:\n",
    "            int_data[i] = 1.0\n",
    "\n",
    "    # Calculate the cumulative sum\n",
    "    cumulative_sum = numpy.cumsum(int_data)\n",
    "    # Append a 0 to the end and beginning of the sum\n",
    "    cumulative_sum = numpy.append(cumulative_sum, [0])\n",
    "    cumulative_sum = numpy.append([0], cumulative_sum)\n",
    "\n",
    "    # These are the states we are going to look at\n",
    "    x_values = numpy.array([-4, -3, -2, -1, 1, 2, 3, 4])\n",
    "\n",
    "    # Identify all the locations where the cumulative sum revisits 0\n",
    "    position = numpy.where(cumulative_sum == 0)[0]\n",
    "    # For this identify all the cycles\n",
    "    cycles = []\n",
    "    for pos in range(len(position) - 1):\n",
    "        # Add this cycle to the list of cycles\n",
    "        cycles.append(cumulative_sum[position[pos]:position[pos + 1] + 1])\n",
    "    num_cycles = len(cycles)\n",
    "\n",
    "    state_count = []\n",
    "    for cycle in cycles:\n",
    "        # Determine the number of times each cycle visits each state\n",
    "        state_count.append(([len(numpy.where(cycle == state)[0]) for state in x_values]))\n",
    "    state_count = numpy.transpose(numpy.clip(state_count, 0, 5))\n",
    "\n",
    "    su = []\n",
    "    for cycle in range(6):\n",
    "        su.append([(sct == cycle).sum() for sct in state_count])\n",
    "    su = numpy.transpose(su)\n",
    "\n",
    "    piks = ([([get_pik_value(uu, state) for uu in range(6)]) for state in x_values])\n",
    "    inner_term = num_cycles * numpy.array(piks)\n",
    "    chi = numpy.sum(1.0 * (numpy.array(su) - inner_term) ** 2 / inner_term, axis=1)\n",
    "    p_values = ([spc.gammaincc(2.5, cs / 2.0) for cs in chi])\n",
    "    return p_values\n",
    "\n",
    "print random_excursions(bin_encoding)"
   ]
  },
  {
   "cell_type": "markdown",
   "metadata": {},
   "source": [
    "## TEST 15 - RANDOM EXCURSIONS VARIANT\n",
    "\n",
    "The random excursions variant test, as the name suggests, is a variant of the random excursions test which differs in that it does not partition the random walk, and it computes the total number of times the random walk visits a wider random of states extending from -9, -8, ... to ..., +8, +9. As with the previous test, which returns 8 P-values (one for each state), the random excursions variant test returns 18 P-values. "
   ]
  },
  {
   "cell_type": "code",
   "execution_count": 71,
   "metadata": {
    "collapsed": false
   },
   "outputs": [
    {
     "name": "stdout",
     "output_type": "stream",
     "text": [
      "[0.075306252751959776, 0.10199463147479329, 0.096092329455673337, 0.33968596685552788, 0.95569587131643563, 0.52873332512143001, 0.3325637549003464, 0.5005813519490323, 0.73888268036352722, 0.31731050786291415, 0.44141832678205373, 0.50233495436050224, 0.61429466466348237, 0.78118295086714995, 0.51357927725787089, 0.54788979951689043, 0.60557661633534643, 0.71600479550433105]\n"
     ]
    }
   ],
   "source": [
    "def get_frequency(list_data, trigger):\n",
    "    \"\"\"\n",
    "    This method is used by the random_excursions_variant method to get frequencies\n",
    "    \"\"\"\n",
    "    frequency = 0\n",
    "    for (x, y) in list_data:\n",
    "        if x == trigger:\n",
    "            frequency = y\n",
    "    return frequency\n",
    "\n",
    "def random_excursions_variant(bin_data):\n",
    "    \"\"\"\n",
    "    Note that this description is taken from the NIST documentation [1]\n",
    "    [1] http://csrc.nist.gov/publications/nistpubs/800-22-rev1a/SP800-22rev1a.pdf\n",
    "    The focus of this test is the total number of times that a particular state is visited (i.e., occurs) in a\n",
    "    cumulative sum random walk. The purpose of this test is to detect deviations from the expected number of visits\n",
    "    to various states in the random walk. This test is actually a series of eighteen tests (and conclusions), one\n",
    "    test and conclusion for each of the states: -9, -8, …, -1 and +1, +2, …, +9.\n",
    "    :param bin_data: a binary string\n",
    "    :return: the P-value\n",
    "    \"\"\"\n",
    "    int_data = numpy.zeros(len(bin_data))\n",
    "    for i in range(len(bin_data)):\n",
    "        int_data[i] = int(bin_data[i])\n",
    "    sum_int = (2 * int_data) - numpy.ones(len(int_data))\n",
    "    cumulative_sum = numpy.cumsum(sum_int)\n",
    "\n",
    "    li_data = []\n",
    "    for xs in sorted(set(cumulative_sum)):\n",
    "        if numpy.abs(xs) <= 9:\n",
    "            li_data.append([xs, len(numpy.where(cumulative_sum == xs)[0])])\n",
    "\n",
    "    j = get_frequency(li_data, 0) + 1\n",
    "    p_values = []\n",
    "    for xs in range(-9, 9 + 1):\n",
    "        if not xs == 0:\n",
    "            den = numpy.sqrt(2 * j * (4 * numpy.abs(xs) - 2))\n",
    "            p_values.append(spc.erfc(numpy.abs(get_frequency(li_data, xs) - j) / den))\n",
    "    return p_values\n",
    "\n",
    "print random_excursions_variant(bin_encoding)"
   ]
  }
 ],
 "metadata": {
  "kernelspec": {
   "display_name": "Python 2",
   "language": "python",
   "name": "python2"
  },
  "language_info": {
   "codemirror_mode": {
    "name": "ipython",
    "version": 2
   },
   "file_extension": ".py",
   "mimetype": "text/x-python",
   "name": "python",
   "nbconvert_exporter": "python",
   "pygments_lexer": "ipython2",
   "version": "2.7.13"
  }
 },
 "nbformat": 4,
 "nbformat_minor": 0
}
